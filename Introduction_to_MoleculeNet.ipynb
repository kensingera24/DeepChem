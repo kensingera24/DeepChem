{
  "nbformat": 4,
  "nbformat_minor": 0,
  "metadata": {
    "colab": {
      "provenance": [],
      "authorship_tag": "ABX9TyOEPGrhL6OTgnDMAE9qeWBp",
      "include_colab_link": true
    },
    "kernelspec": {
      "name": "python3",
      "display_name": "Python 3"
    },
    "language_info": {
      "name": "python"
    }
  },
  "cells": [
    {
      "cell_type": "markdown",
      "metadata": {
        "id": "view-in-github",
        "colab_type": "text"
      },
      "source": [
        "<a href=\"https://colab.research.google.com/github/kensingera24/DeepChem/blob/main/Introduction_to_MoleculeNet.ipynb\" target=\"_parent\"><img src=\"https://colab.research.google.com/assets/colab-badge.svg\" alt=\"Open In Colab\"/></a>"
      ]
    },
    {
      "cell_type": "code",
      "execution_count": 1,
      "metadata": {
        "id": "s12oLBRQegln"
      },
      "outputs": [],
      "source": [
        "# This notebook will explore uses of the MoleculeNet suite of datasets"
      ]
    },
    {
      "cell_type": "code",
      "source": [
        "!pip install --pre deepchem"
      ],
      "metadata": {
        "colab": {
          "base_uri": "https://localhost:8080/"
        },
        "id": "0vh6WxM9eylk",
        "outputId": "033d2111-9a34-49e2-a62a-ca4cddceff0c"
      },
      "execution_count": 2,
      "outputs": [
        {
          "output_type": "stream",
          "name": "stdout",
          "text": [
            "Collecting deepchem\n",
            "  Downloading deepchem-2.8.1.dev20240419190927-py3-none-any.whl (1.0 MB)\n",
            "\u001b[2K     \u001b[90m━━━━━━━━━━━━━━━━━━━━━━━━━━━━━━━━━━━━━━━━\u001b[0m \u001b[32m1.0/1.0 MB\u001b[0m \u001b[31m2.8 MB/s\u001b[0m eta \u001b[36m0:00:00\u001b[0m\n",
            "\u001b[?25hRequirement already satisfied: joblib in /usr/local/lib/python3.10/dist-packages (from deepchem) (1.4.0)\n",
            "Requirement already satisfied: numpy>=1.21 in /usr/local/lib/python3.10/dist-packages (from deepchem) (1.25.2)\n",
            "Requirement already satisfied: pandas in /usr/local/lib/python3.10/dist-packages (from deepchem) (2.0.3)\n",
            "Requirement already satisfied: scikit-learn in /usr/local/lib/python3.10/dist-packages (from deepchem) (1.2.2)\n",
            "Requirement already satisfied: sympy in /usr/local/lib/python3.10/dist-packages (from deepchem) (1.12)\n",
            "Requirement already satisfied: scipy>=1.10.1 in /usr/local/lib/python3.10/dist-packages (from deepchem) (1.11.4)\n",
            "Collecting rdkit (from deepchem)\n",
            "  Downloading rdkit-2023.9.5-cp310-cp310-manylinux_2_17_x86_64.manylinux2014_x86_64.whl (34.4 MB)\n",
            "\u001b[2K     \u001b[90m━━━━━━━━━━━━━━━━━━━━━━━━━━━━━━━━━━━━━━━━\u001b[0m \u001b[32m34.4/34.4 MB\u001b[0m \u001b[31m23.2 MB/s\u001b[0m eta \u001b[36m0:00:00\u001b[0m\n",
            "\u001b[?25hRequirement already satisfied: python-dateutil>=2.8.2 in /usr/local/lib/python3.10/dist-packages (from pandas->deepchem) (2.8.2)\n",
            "Requirement already satisfied: pytz>=2020.1 in /usr/local/lib/python3.10/dist-packages (from pandas->deepchem) (2023.4)\n",
            "Requirement already satisfied: tzdata>=2022.1 in /usr/local/lib/python3.10/dist-packages (from pandas->deepchem) (2024.1)\n",
            "Requirement already satisfied: Pillow in /usr/local/lib/python3.10/dist-packages (from rdkit->deepchem) (9.4.0)\n",
            "Requirement already satisfied: threadpoolctl>=2.0.0 in /usr/local/lib/python3.10/dist-packages (from scikit-learn->deepchem) (3.4.0)\n",
            "Requirement already satisfied: mpmath>=0.19 in /usr/local/lib/python3.10/dist-packages (from sympy->deepchem) (1.3.0)\n",
            "Requirement already satisfied: six>=1.5 in /usr/local/lib/python3.10/dist-packages (from python-dateutil>=2.8.2->pandas->deepchem) (1.16.0)\n",
            "Installing collected packages: rdkit, deepchem\n",
            "Successfully installed deepchem-2.8.1.dev20240419190927 rdkit-2023.9.5\n"
          ]
        }
      ]
    },
    {
      "cell_type": "code",
      "source": [
        "import deepchem as dc\n",
        "dc.__version__"
      ],
      "metadata": {
        "colab": {
          "base_uri": "https://localhost:8080/",
          "height": 216
        },
        "id": "kTmJWiebfGEi",
        "outputId": "cdb46b34-4d0f-43f4-ff27-f522126a89d2"
      },
      "execution_count": 3,
      "outputs": [
        {
          "output_type": "stream",
          "name": "stderr",
          "text": [
            "WARNING:deepchem.feat.molecule_featurizers.rdkit_descriptors:No normalization for SPS. Feature removed!\n",
            "WARNING:deepchem.feat.molecule_featurizers.rdkit_descriptors:No normalization for AvgIpc. Feature removed!\n",
            "WARNING:tensorflow:From /usr/local/lib/python3.10/dist-packages/tensorflow/python/util/deprecation.py:588: calling function (from tensorflow.python.eager.polymorphic_function.polymorphic_function) with experimental_relax_shapes is deprecated and will be removed in a future version.\n",
            "Instructions for updating:\n",
            "experimental_relax_shapes is deprecated, use reduce_retracing instead\n",
            "WARNING:deepchem.models.torch_models:Skipped loading modules with pytorch-geometric dependency, missing a dependency. No module named 'torch_geometric'\n",
            "WARNING:deepchem.models:Skipped loading modules with pytorch-geometric dependency, missing a dependency. cannot import name 'DMPNN' from 'deepchem.models.torch_models' (/usr/local/lib/python3.10/dist-packages/deepchem/models/torch_models/__init__.py)\n",
            "WARNING:deepchem.models:Skipped loading modules with pytorch-lightning dependency, missing a dependency. No module named 'lightning'\n",
            "WARNING:deepchem.models:Skipped loading some Jax models, missing a dependency. No module named 'haiku'\n"
          ]
        },
        {
          "output_type": "execute_result",
          "data": {
            "text/plain": [
              "'2.8.1.dev'"
            ],
            "application/vnd.google.colaboratory.intrinsic+json": {
              "type": "string"
            }
          },
          "metadata": {},
          "execution_count": 3
        }
      ]
    },
    {
      "cell_type": "code",
      "source": [
        "# Load in the Delaney dataset of molecular solubilities\n",
        "tasks, datasets, transformers = dc.molnet.load_delaney(featurizer='GraphConv', splitter='random')"
      ],
      "metadata": {
        "id": "4aWuX9fvfHLM"
      },
      "execution_count": 5,
      "outputs": []
    },
    {
      "cell_type": "code",
      "source": [
        "# Take a look at the full collection of leaders available\n",
        "[method for method in dir(dc.molnet) if \"load_\" in method]"
      ],
      "metadata": {
        "colab": {
          "base_uri": "https://localhost:8080/"
        },
        "id": "UsgMRyEWfQa-",
        "outputId": "e146eb86-0b1a-436d-e140-87a8322b324e"
      },
      "execution_count": 6,
      "outputs": [
        {
          "output_type": "execute_result",
          "data": {
            "text/plain": [
              "['load_Platinum_Adsorption',\n",
              " 'load_bace_classification',\n",
              " 'load_bace_regression',\n",
              " 'load_bandgap',\n",
              " 'load_bbbc001',\n",
              " 'load_bbbc002',\n",
              " 'load_bbbc003',\n",
              " 'load_bbbc004',\n",
              " 'load_bbbc005',\n",
              " 'load_bbbp',\n",
              " 'load_cell_counting',\n",
              " 'load_chembl',\n",
              " 'load_chembl25',\n",
              " 'load_clearance',\n",
              " 'load_clintox',\n",
              " 'load_delaney',\n",
              " 'load_factors',\n",
              " 'load_freesolv',\n",
              " 'load_function',\n",
              " 'load_hiv',\n",
              " 'load_hopv',\n",
              " 'load_hppb',\n",
              " 'load_kaggle',\n",
              " 'load_kinase',\n",
              " 'load_lipo',\n",
              " 'load_mp_formation_energy',\n",
              " 'load_mp_metallicity',\n",
              " 'load_muv',\n",
              " 'load_nci',\n",
              " 'load_pcba',\n",
              " 'load_pdbbind',\n",
              " 'load_perovskite',\n",
              " 'load_ppb',\n",
              " 'load_qm7',\n",
              " 'load_qm8',\n",
              " 'load_qm9',\n",
              " 'load_sampl',\n",
              " 'load_sider',\n",
              " 'load_sweet',\n",
              " 'load_thermosol',\n",
              " 'load_tox21',\n",
              " 'load_toxcast',\n",
              " 'load_uspto',\n",
              " 'load_uv',\n",
              " 'load_zinc15']"
            ]
          },
          "metadata": {},
          "execution_count": 6
        }
      ]
    },
    {
      "cell_type": "code",
      "source": [
        "# Check how many datasets there are in MoleculeNet today\n",
        "len([method for method in dir(dc.molnet) if \"load_\" in method])"
      ],
      "metadata": {
        "colab": {
          "base_uri": "https://localhost:8080/"
        },
        "id": "yb_C5I5Bfn_W",
        "outputId": "cfacf9a6-0575-4162-ed9f-3e5b40786a9a"
      },
      "execution_count": 7,
      "outputs": [
        {
          "output_type": "execute_result",
          "data": {
            "text/plain": [
              "45"
            ]
          },
          "metadata": {},
          "execution_count": 7
        }
      ]
    },
    {
      "cell_type": "code",
      "source": [
        "# Here is a list of the types of datasets:\n",
        "# 1. Quantum Mechanical Datasets\n",
        "  # QM property prediction tasks\n",
        "# 2. Physical Chemistry Datasets\n",
        "  # Physical property prediction tasks\n",
        "# 3. Chemical Reaction Datasets\n",
        "  # Computational retrosynthesis / forward synthesis\n",
        "# 4. Biochemical/Biophysical Datasets\n",
        "  # Quantities like binding affinity of compounds to proteins\n",
        "# 5. Molecular Catalog Datasets\n",
        "  # Molecular datasets which have no associated properties\n",
        "  # beyon the raw SMILES formula or structure\n",
        "# 6. Physiology Datasets\n",
        "  # How molescules interact with human patients\n",
        "# 7. Structural Biology Datasets\n",
        "  # Contains 3D structures of macromolecues along with associated properties\n",
        "# 8. Microscopy Datasets\n",
        "  # Contains microscopy images, typically of cell lines\n",
        "# 9. Materials Properties Datasets\n",
        "  # Compute properties of various materials\n"
      ],
      "metadata": {
        "id": "wnSTIwe9f0VP"
      },
      "execution_count": 11,
      "outputs": []
    },
    {
      "cell_type": "code",
      "source": [
        "# List of task-names or multiple labels associated with Delaney set\n",
        "tasks"
      ],
      "metadata": {
        "colab": {
          "base_uri": "https://localhost:8080/"
        },
        "id": "rccuTT5ighql",
        "outputId": "f205f881-0138-4edd-f85a-4fb0ced51c04"
      },
      "execution_count": 13,
      "outputs": [
        {
          "output_type": "execute_result",
          "data": {
            "text/plain": [
              "['measured log solubility in mols per litre']"
            ]
          },
          "metadata": {},
          "execution_count": 13
        }
      ]
    },
    {
      "cell_type": "code",
      "source": [
        "# Take a look at datasets\n",
        "datasets"
      ],
      "metadata": {
        "colab": {
          "base_uri": "https://localhost:8080/"
        },
        "id": "C4Q7utBkgeBc",
        "outputId": "1309ae13-1878-4a9e-a4a5-2043097ca64c"
      },
      "execution_count": 14,
      "outputs": [
        {
          "output_type": "execute_result",
          "data": {
            "text/plain": [
              "(<DiskDataset X.shape: (902,), y.shape: (902, 1), w.shape: (902, 1), ids: ['Clc1c(Cl)c(Cl)c(N(=O)=O)c(Cl)c1Cl' 'Clc1ccccc1N(=O)=O' 'c1ccc2ncccc2c1'\n",
              "  ... 'CC(C)Nc1nc(Cl)nc(NC(C)C)n1' 'CCOc1ccc(NC(N)=O)cc1'\n",
              "  'Cn1c(=O)n(C)c2nc[nH]c2c1=O'], task_names: ['measured log solubility in mols per litre']>,\n",
              " <DiskDataset X.shape: (113,), y.shape: (113, 1), w.shape: (113, 1), ids: ['C1OC(O)C(O)C(O)C1O' 'FC(F)(F)C(Cl)Br '\n",
              "  'CC(=O)N(S(=O)c1ccc(N)cc1)c2onc(C)c2C ' ... 'O=N(=O)c1cc(Cl)c(Cl)cc1'\n",
              "  'Cc1c[nH]c2ccccc12 ' 'CNC(=O)Oc1cc(C)cc(C)c1'], task_names: ['measured log solubility in mols per litre']>,\n",
              " <DiskDataset X.shape: (113,), y.shape: (113, 1), w.shape: (113, 1), ids: ['COP(=O)(OC)OC(=CCl)c1cc(Cl)c(Cl)cc1Cl' 'NC(=O)NC1NC(=O)NC1=O '\n",
              "  'Cc1ccc(cc1)S(=O)(=O)N' ... 'OCC(NC(=O)C(Cl)Cl)C(O)c1ccc(cc1)N(=O)=O'\n",
              "  'Oc1c(Cl)ccc(Cl)c1Cl' 'ClCCC#N '], task_names: ['measured log solubility in mols per litre']>)"
            ]
          },
          "metadata": {},
          "execution_count": 14
        }
      ]
    },
    {
      "cell_type": "code",
      "source": [
        "# Split out the tuple of 3 datasets\n",
        "train, valid, test=datasets"
      ],
      "metadata": {
        "id": "gmZzJJ-TjlQQ"
      },
      "execution_count": 15,
      "outputs": []
    },
    {
      "cell_type": "code",
      "source": [
        "train"
      ],
      "metadata": {
        "colab": {
          "base_uri": "https://localhost:8080/"
        },
        "id": "b8ScmNXXjsCO",
        "outputId": "f5d53208-624d-4aa6-e2d5-bdf0a8c473d1"
      },
      "execution_count": 16,
      "outputs": [
        {
          "output_type": "execute_result",
          "data": {
            "text/plain": [
              "<DiskDataset X.shape: (902,), y.shape: (902, 1), w.shape: (902, 1), ids: ['Clc1c(Cl)c(Cl)c(N(=O)=O)c(Cl)c1Cl' 'Clc1ccccc1N(=O)=O' 'c1ccc2ncccc2c1'\n",
              " ... 'CC(C)Nc1nc(Cl)nc(NC(C)C)n1' 'CCOc1ccc(NC(N)=O)cc1'\n",
              " 'Cn1c(=O)n(C)c2nc[nH]c2c1=O'], task_names: ['measured log solubility in mols per litre']>"
            ]
          },
          "metadata": {},
          "execution_count": 16
        }
      ]
    },
    {
      "cell_type": "code",
      "source": [
        "valid"
      ],
      "metadata": {
        "colab": {
          "base_uri": "https://localhost:8080/"
        },
        "id": "8yAUwTv_jtB-",
        "outputId": "d0828c43-686f-42fb-caaf-6ac68d2a0dce"
      },
      "execution_count": 17,
      "outputs": [
        {
          "output_type": "execute_result",
          "data": {
            "text/plain": [
              "<DiskDataset X.shape: (113,), y.shape: (113, 1), w.shape: (113, 1), ids: ['C1OC(O)C(O)C(O)C1O' 'FC(F)(F)C(Cl)Br '\n",
              " 'CC(=O)N(S(=O)c1ccc(N)cc1)c2onc(C)c2C ' ... 'O=N(=O)c1cc(Cl)c(Cl)cc1'\n",
              " 'Cc1c[nH]c2ccccc12 ' 'CNC(=O)Oc1cc(C)cc(C)c1'], task_names: ['measured log solubility in mols per litre']>"
            ]
          },
          "metadata": {},
          "execution_count": 17
        }
      ]
    },
    {
      "cell_type": "code",
      "source": [
        "test"
      ],
      "metadata": {
        "colab": {
          "base_uri": "https://localhost:8080/"
        },
        "id": "am3xjKi-juDn",
        "outputId": "272a176d-9561-4125-f8d5-64a5fcd05214"
      },
      "execution_count": 18,
      "outputs": [
        {
          "output_type": "execute_result",
          "data": {
            "text/plain": [
              "<DiskDataset X.shape: (113,), y.shape: (113, 1), w.shape: (113, 1), ids: ['COP(=O)(OC)OC(=CCl)c1cc(Cl)c(Cl)cc1Cl' 'NC(=O)NC1NC(=O)NC1=O '\n",
              " 'Cc1ccc(cc1)S(=O)(=O)N' ... 'OCC(NC(=O)C(Cl)Cl)C(O)c1ccc(cc1)N(=O)=O'\n",
              " 'Oc1c(Cl)ccc(Cl)c1Cl' 'ClCCC#N '], task_names: ['measured log solubility in mols per litre']>"
            ]
          },
          "metadata": {},
          "execution_count": 18
        }
      ]
    },
    {
      "cell_type": "code",
      "source": [
        "train.X[0]"
      ],
      "metadata": {
        "colab": {
          "base_uri": "https://localhost:8080/"
        },
        "id": "FbPl_St8jwh6",
        "outputId": "7432ae15-d5f4-44cf-fdbd-649a452fa9cc"
      },
      "execution_count": 19,
      "outputs": [
        {
          "output_type": "execute_result",
          "data": {
            "text/plain": [
              "<deepchem.feat.mol_graphs.ConvMol at 0x7917f150f2e0>"
            ]
          },
          "metadata": {},
          "execution_count": 19
        }
      ]
    },
    {
      "cell_type": "code",
      "source": [
        "# Take a look at the transformer field\n",
        "transformers"
      ],
      "metadata": {
        "colab": {
          "base_uri": "https://localhost:8080/"
        },
        "id": "k7tm6zkrjycw",
        "outputId": "f9cb9063-4c4c-48ec-9b52-f5d1bb6560cd"
      },
      "execution_count": 21,
      "outputs": [
        {
          "output_type": "execute_result",
          "data": {
            "text/plain": [
              "[<deepchem.trans.transformers.NormalizationTransformer at 0x79194809cac0>]"
            ]
          },
          "metadata": {},
          "execution_count": 21
        }
      ]
    },
    {
      "cell_type": "code",
      "source": [
        "# See that one transformer was applied,\n",
        "# the dc.trans.transformers.NormalizationTransformer"
      ],
      "metadata": {
        "id": "1uiiIhpYj37t"
      },
      "execution_count": 22,
      "outputs": []
    },
    {
      "cell_type": "markdown",
      "source": [
        "You can use the 'featurizer' and 'splitter' keyword arguments and pass in different strings. Common possible choices for 'featurizer' are 'ECFP', 'GraphConv', 'Weave' and 'smiles2img' corresponding to the dc.feat.CircularFingerprint , dc.feat.ConvMolFeaturizer , dc.feat.WeaveFeaturizer and dc.feat.SmilesToImage featurizers. Common possible choices for 'splitter' are None , 'index', 'random', 'scaffold' and 'stratified' corresponding to no split, dc.splits.IndexSplitter , dc.splits.RandomSplitter , dc.splits.SingletaskStratifiedSplitter . We haven't talked much about splitters yet, but intuitively they're a way to partition a dataset based on different criteria.\n",
        "\n"
      ],
      "metadata": {
        "id": "_UciBEmZkJ6h"
      }
    },
    {
      "cell_type": "code",
      "source": [
        "# Instead of a string, you can pass in any Featurizer or Splitter object\n",
        "tasks, datasets, transformers = dc.molnet.load_delaney(featurizer=\"ECFP\", splitter=\"scaffold\")"
      ],
      "metadata": {
        "id": "LFQ1OZTIkLwz"
      },
      "execution_count": 23,
      "outputs": []
    },
    {
      "cell_type": "code",
      "source": [
        "(train, valid, test) = datasets"
      ],
      "metadata": {
        "id": "dDNFTVuvl1jj"
      },
      "execution_count": 24,
      "outputs": []
    },
    {
      "cell_type": "code",
      "source": [
        "train"
      ],
      "metadata": {
        "colab": {
          "base_uri": "https://localhost:8080/"
        },
        "id": "nJm7vVkwl6Jo",
        "outputId": "8c40e7d6-7d50-4fa7-cada-5dc2925c4f76"
      },
      "execution_count": 25,
      "outputs": [
        {
          "output_type": "execute_result",
          "data": {
            "text/plain": [
              "<DiskDataset X.shape: (902, 1024), y.shape: (902, 1), w.shape: (902, 1), ids: ['CC(C)=CCCC(C)=CC(=O)' 'CCCC=C' 'CCCCCCCCCCCCCC' ...\n",
              " 'Nc2cccc3nc1ccccc1cc23 ' 'C1CCCCCC1' 'OC1CCCCCC1'], task_names: ['measured log solubility in mols per litre']>"
            ]
          },
          "metadata": {},
          "execution_count": 25
        }
      ]
    }
  ]
}